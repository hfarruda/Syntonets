{
 "cells": [
  {
   "cell_type": "markdown",
   "metadata": {},
   "source": [
    "# Example of use of Syntonet\n",
    "\n",
    "Here we present a simple example of how to create and visualize a Syntonet network. \n",
    "\n",
    "First, it is necessary to import Syntonets. In this example, we also used numpy."
   ]
  },
  {
   "cell_type": "code",
   "execution_count": 1,
   "metadata": {},
   "outputs": [],
   "source": [
    "import syntonets\n",
    "import numpy as np"
   ]
  },
  {
   "cell_type": "markdown",
   "metadata": {},
   "source": [
    "Before using the functions, it is necessary to create the sequences of fundamental scales (here we consider the equal temperament). First, we define some necessary parameters as follows."
   ]
  },
  {
   "cell_type": "code",
   "execution_count": 2,
   "metadata": {},
   "outputs": [
    {
     "name": "stdout",
     "output_type": "stream",
     "text": [
      "F1: 32.70319566257482\n"
     ]
    }
   ],
   "source": [
    "#Defining scales\n",
    "scale_type = 'equal_temperament'\n",
    "\n",
    "interval2note = [ \"C\", \"C#\", \"D\", \"D#\", \"E\", \"F\", \"F#\", \"G\", \"G#\", \"A\", \"A#\", \"B\"]\n",
    "n_repetitionsts = 9\n",
    "size = len(interval2note)\n",
    "interval2note = [interval2note[i%size]+str(int(i/size)+1) for i in range(n_repetitionsts*size)]\n",
    "intervals = [i for i in range(n_repetitionsts*size)]\n",
    "\n",
    "ratio_to_fundamental_just_scale = [1.,\n",
    "                               25./24.,\n",
    "                               9./8.,\n",
    "                               6./5.,\n",
    "                               5./4.,\n",
    "                               4./3.,\n",
    "                               45./32.,\n",
    "                               3./2.,\n",
    "                               8./5.,\n",
    "                               5./3.,\n",
    "                               9./5.,\n",
    "                               15./8.]\n",
    "\n",
    "ratio_to_fundamental_pythagorean = [1.,\n",
    "                                 256./243.,\n",
    "                                 9./8.,\n",
    "                                 32./27.,\n",
    "                                 81./64.,\n",
    "                                 4./3.,\n",
    "                                 729./512.,\n",
    "                                 3./2.,\n",
    "                                 128./81.,\n",
    "                                 27./16.,\n",
    "                                 16./9.,\n",
    "                                 243./128.]\n",
    "\n",
    "ratio_to_fundamental_meantone = [1.,\n",
    "                              1.0449,\n",
    "                              1.1180,\n",
    "                              1.1963,\n",
    "                              1.2500,\n",
    "                              1.3375,\n",
    "                              1.3975,\n",
    "                              1.4953,\n",
    "                              1.5625,\n",
    "                              1.6719,\n",
    "                              1.7889,\n",
    "                              1.8692 ]   \n",
    "\n",
    "ratio_to_fundamental_werckmeister = [1.,\n",
    "                                  256./243.,\n",
    "                                  64./81. * np.sqrt(2),\n",
    "                                  32./27.,\n",
    "                                  256./243. * np.power(2,1/4),\n",
    "                                  4./3.,\n",
    "                                  1024./729.,\n",
    "                                  8./9.  * np.power(8,1/4),\n",
    "                                  128./81.,\n",
    "                                  1024./729. * np.power(2,1/4),\n",
    "                                  16./9.,\n",
    "                                  128./81.  * np.power(2,1/4)]\n",
    "\n",
    "\n",
    "c = np.power(2.,1./12.)\n",
    "f1 = (440./np.power(c,9))/8.\n",
    "print (\"F1:\", f1)\n",
    "\n",
    "if scale_type == 'just':\n",
    "    scale = []\n",
    "    for i in range(n_repetitionsts):\n",
    "        scale += (np.array(ratio_to_fundamental_just_scale)*float(i+1)).tolist()\n",
    "    interval2frequency = [f1 * scale[i] for i in intervals]\n",
    "elif scale_type == 'pythagorean':\n",
    "    scale = []\n",
    "    for i in range(n_repetitionsts):\n",
    "        scale += (np.array(ratio_to_fundamental_pythagorean)*float(i+1)).tolist()\n",
    "    interval2frequency = [f1 * scale[i] for i in intervals]\n",
    "elif scale_type == 'meantone':\n",
    "    scale = []\n",
    "    for i in range(n_repetitionsts):\n",
    "        scale += (np.array(ratio_to_fundamental_meantone)*float(i+1)).tolist()\n",
    "    interval2frequency = [f1 * scale[i] for i in intervals]\n",
    "elif scale_type == 'werckmeister':\n",
    "    scale = []\n",
    "    for i in range(n_repetitionsts):\n",
    "        scale += (np.array(ratio_to_fundamental_werckmeister)*float(i+1)).tolist()\n",
    "    interval2frequency = [f1 * scale[i] for i in intervals]\n",
    "elif scale_type == 'equal_temperament':\n",
    "    interval2frequency = [f1 * np.power(c,i) for i in intervals]"
   ]
  },
  {
   "cell_type": "markdown",
   "metadata": {},
   "source": [
    "Here, we define the employed parameters."
   ]
  },
  {
   "cell_type": "code",
   "execution_count": 3,
   "metadata": {},
   "outputs": [],
   "source": [
    "beta = 1\n",
    "alpha = 0.2\n",
    "number_of_edges = 560 #-1 defines that edges should not be removed\n",
    "giant = True\n",
    "with_colors = True"
   ]
  },
  {
   "cell_type": "markdown",
   "metadata": {},
   "source": [
    "In the following, we create and visualize the networks. The visualized networks are saved in files called \"fig_test_c.png\"  and \"fig_test_d.png\"."
   ]
  },
  {
   "cell_type": "code",
   "execution_count": 4,
   "metadata": {},
   "outputs": [],
   "source": [
    "fig_name_consonance = \"./fig_test_c\"\n",
    "fig_name_dissonance = \"./fig_test_d\"\n",
    "\n",
    "(g_c, g_d) = syntonets.create_network(interval2note, interval2frequency, beta = beta, alpha = alpha, number_of_edges = number_of_edges, giant = giant, with_colors = with_colors)\n",
    "syntonets.visualize(g_c, fig_name_consonance)\n",
    "syntonets.visualize(g_d, fig_name_dissonance)"
   ]
  },
  {
   "cell_type": "markdown",
   "metadata": {},
   "source": [
    "If you use this code in a scientific work, please cite us as: da F. Costa, Luciano, and F. de Arruda, Henrique. \"Syntonets: Toward A Harmony-Inspired General Model of Complex Networks.\" Eur. Phys. J. B, 93 12 (2020) 224."
   ]
  }
 ],
 "metadata": {
  "kernelspec": {
   "display_name": "Python 3",
   "language": "python",
   "name": "python3"
  },
  "language_info": {
   "codemirror_mode": {
    "name": "ipython",
    "version": 3
   },
   "file_extension": ".py",
   "mimetype": "text/x-python",
   "name": "python",
   "nbconvert_exporter": "python",
   "pygments_lexer": "ipython3",
   "version": "3.8.5"
  }
 },
 "nbformat": 4,
 "nbformat_minor": 4
}
